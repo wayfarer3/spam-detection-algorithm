{
 "cells": [
  {
   "cell_type": "code",
   "execution_count": 1,
   "metadata": {},
   "outputs": [],
   "source": [
    "import pandas as pd\n",
    "# randomly splits data into training and testing datasets\n",
    "from sklearn.model_selection import train_test_split, GridSearchCV, cross_val_score\n",
    "from sklearn.svm import LinearSVC\n",
    "from sklearn.feature_extraction.text import TfidfVectorizer # more refined than the bag-of-words model; results in higher accuracy\n",
    "from sklearn.pipeline import Pipeline\n",
    "from sklearn.metrics import accuracy_score, classification_report"
   ]
  },
  {
   "cell_type": "code",
   "execution_count": 2,
   "metadata": {},
   "outputs": [],
   "source": [
    "# Load the data\n",
    "df = pd.read_csv(\"C:/Users/Joshua/Desktop/spam detection/datasets/trec07p_data.csv\")"
   ]
  },
  {
   "cell_type": "code",
   "execution_count": 3,
   "metadata": {},
   "outputs": [],
   "source": [
    "# Splitting the data into training (80%) and testing (20%)\n",
    "x = df['text']\n",
    "y = df['label']\n",
    "\n",
    "pipeline = Pipeline([\n",
    "    ('tfidf', TfidfVectorizer()),  # You can adjust TF-IDF parameters as needed\n",
    "    ('clf', LinearSVC())\n",
    "])\n",
    "\n",
    "x_train, x_test, y_train, y_test = train_test_split(x, y, test_size = 0.2, random_state=2)"
   ]
  },
  {
   "cell_type": "code",
   "execution_count": 4,
   "metadata": {},
   "outputs": [],
   "source": [
    "# Define parameter grid for GridSearchCV\n",
    "param_grid = {\n",
    "    'tfidf__max_df': [0.5, 0.75, 0.85, 1.0],\n",
    "    'tfidf__ngram_range': [(1, 1), (1, 2)],  # Unigrams and bigrams\n",
    "    'tfidf__sublinear_tf': [True, False],\n",
    "    'clf__C': [0.01, 0.1, 1, 10, 100]  # Regularization parameter\n",
    "}"
   ]
  },
  {
   "cell_type": "code",
   "execution_count": 5,
   "metadata": {},
   "outputs": [],
   "source": [
    "# Initialize GridSearchCV\n",
    "grid_search = GridSearchCV(pipeline, param_grid, cv=10, n_jobs=-1, scoring='accuracy')\n",
    "\n",
    "# Train the model\n",
    "grid_search.fit(x_train, y_train)\n",
    "\n",
    "# Predict on the test set\n",
    "y_pred = grid_search.predict(x_test)"
   ]
  },
  {
   "cell_type": "code",
   "execution_count": null,
   "metadata": {},
   "outputs": [
    {
     "name": "stdout",
     "output_type": "stream",
     "text": [
      "Best Parameters: {'clf__C': 10, 'tfidf__max_df': 0.75, 'tfidf__ngram_range': (1, 2)}\n",
      "              precision    recall  f1-score   support\n",
      "\n",
      "           0       1.00      0.99      1.00      4760\n",
      "           1       1.00      1.00      1.00      5974\n",
      "\n",
      "    accuracy                           1.00     10734\n",
      "   macro avg       1.00      1.00      1.00     10734\n",
      "weighted avg       1.00      1.00      1.00     10734\n",
      "\n",
      "              precision    recall  f1-score   support\n",
      "\n",
      "        Spam       1.00      0.99      1.00      4760\n",
      "         Ham       1.00      1.00      1.00      5974\n",
      "\n",
      "    accuracy                           1.00     10734\n",
      "   macro avg       1.00      1.00      1.00     10734\n",
      "weighted avg       1.00      1.00      1.00     10734\n",
      "\n",
      "Classification accuracy 99.590%\n"
     ]
    }
   ],
   "source": [
    "# Print the best parameters and classification report\n",
    "print(\"Best Parameters:\", grid_search.best_params_)\n",
    "print(classification_report(y_test, y_pred))\n",
    "\n",
    "# Print results\n",
    "print(classification_report(y_test, y_pred, target_names=['Spam', 'Ham']))\n",
    "print('Classification accuracy {:.3%}'.format(accuracy_score(y_test, y_pred)))"
   ]
  },
  {
   "cell_type": "code",
   "execution_count": null,
   "metadata": {},
   "outputs": [
    {
     "data": {
      "text/plain": [
       "['spam_classifier.pkl']"
      ]
     },
     "execution_count": 30,
     "metadata": {},
     "output_type": "execute_result"
    }
   ],
   "source": [
    "# Save the model and the vectorizer\n",
    "import joblib\n",
    "joblib.dump(grid_search.best_estimator_, 'spam_classifier.pkl')"
   ]
  },
  {
   "cell_type": "code",
   "execution_count": null,
   "metadata": {},
   "outputs": [],
   "source": [
    "# Additional diagnostics: cross-validation scores\n",
    "cv_scores = cross_val_score(grid_search.best_estimator_, x_train, y_train, cv=10)\n",
    "print(\"Cross-validation scores:\", cv_scores)\n",
    "print(\"Mean cross-validation score:\", cv_scores.mean())"
   ]
  }
 ],
 "metadata": {
  "kernelspec": {
   "display_name": "Python 3",
   "language": "python",
   "name": "python3"
  },
  "language_info": {
   "codemirror_mode": {
    "name": "ipython",
    "version": 3
   },
   "file_extension": ".py",
   "mimetype": "text/x-python",
   "name": "python",
   "nbconvert_exporter": "python",
   "pygments_lexer": "ipython3",
   "version": "3.11.9"
  }
 },
 "nbformat": 4,
 "nbformat_minor": 2
}
